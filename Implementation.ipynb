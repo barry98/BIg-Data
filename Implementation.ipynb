{
 "cells": [
  {
   "cell_type": "code",
   "execution_count": 14,
   "metadata": {},
   "outputs": [],
   "source": [
    "import pandas as pd\n",
    "import math\n",
    "import statistics\n",
    "import os\n",
    "from tqdm import tqdm_notebook\n",
    "from sklearn.impute import KNNImputer\n",
    "import impyute as impy\n",
    "import time\n",
    "from termcolor import colored, cprint\n",
    "import matplotlib\n",
    "import matplotlib.pyplot as plt\n",
    "import numpy as np"
   ]
  },
  {
   "cell_type": "code",
   "execution_count": 2,
   "metadata": {},
   "outputs": [
    {
     "name": "stderr",
     "output_type": "stream",
     "text": [
      "D:\\Anaconda\\lib\\site-packages\\IPython\\core\\interactiveshell.py:3058: DtypeWarning: Columns (25,51) have mixed types.Specify dtype option on import or set low_memory=False.\n",
      "  interactivity=interactivity, compiler=compiler, result=result)\n"
     ]
    }
   ],
   "source": [
    "df = pd.read_csv('nfl_data.csv')"
   ]
  },
  {
   "cell_type": "code",
   "execution_count": 3,
   "metadata": {},
   "outputs": [],
   "source": [
    "def ranking(dict_list, columns):\n",
    "    accuracy_ranking = {}\n",
    "    speed_ranking = {}\n",
    "    for x in columns:\n",
    "        accuracy = []\n",
    "        speed = []\n",
    "        for y in dict_list:\n",
    "            accuracy.append((dict_list[y][x][0], y))\n",
    "            speed.append((dict_list[y][x][1], y))\n",
    "        accuracy.sort()\n",
    "        accuracy = [(accuracy[y][0], accuracy[y][1], (y + 1)) for y in range(len(accuracy))]\n",
    "        speed.sort()\n",
    "        speed = [(speed[y][0], speed[y][1], (y + 1)) for y in range(len(speed))]\n",
    "        accuracy_ranking[x] = accuracy\n",
    "        speed_ranking[x] = speed\n",
    "    return accuracy_ranking, speed_ranking\n",
    "            "
   ]
  },
  {
   "cell_type": "code",
   "execution_count": 4,
   "metadata": {},
   "outputs": [],
   "source": [
    "def imputation_ranker(dataframe, pref=None, maxmis=0.66, sample=0.01, misper=0.3):\n",
    "    # Drop columns without enough data\n",
    "    rank_print = lambda x : cprint(x, 'red')\n",
    "    dataframe = df.copy()\n",
    "    dropped_columns = []\n",
    "    for column in dataframe.columns:\n",
    "        if len(dataframe[dataframe[column].isna()]) > len(dataframe) * maxmis:\n",
    "            dropped_columns.append(column)\n",
    "            dataframe = dataframe.drop(columns=column)\n",
    "    rank_print(\"The following columns did not meet the minimum amount of needed data and have therefore been dropped: \")\n",
    "    print(dropped_columns)\n",
    "    print('\\n')\n",
    "    \n",
    "    #Create subset of data with and without NaN\n",
    "    test = dataframe.dropna().sample(int(len(dataframe) * sample), random_state=0).reset_index(drop=True)\n",
    "    nantest = test.copy()\n",
    "    for column in nantest.columns:\n",
    "        change = nantest.sample(int(len(test) * misper)).index\n",
    "        nantest.loc[change, column] = None\n",
    "    \n",
    "    rank_print('The constructed test dataset contains ' + str(len(test)) + ' rows, from which each columns has ' + str(int(len(test) * misper)) + ' rows missing.')\n",
    "    print('\\n')\n",
    "    # Initialize storages\n",
    "    number_columns = [column for column in test.columns if test[column].dtype in [float, int, 'int64', 'float64']]\n",
    "    \n",
    "    rank_print(\"The following \" + str(len(number_columns)) + \" columns will be tested: \")\n",
    "    print(number_columns)\n",
    "    print('\\n')\n",
    "    # KNN imputation\n",
    "    imputer = KNNImputer()\n",
    "    start_time = time.time()\n",
    "    knn_imputed = imputer.fit_transform(nantest[number_columns])\n",
    "    knn_imputed = pd.DataFrame(knn_imputed, columns=number_columns)\n",
    "    endtime = (time.time() - start_time) / len(number_columns)\n",
    "    knn = {}\n",
    "    for column in number_columns:\n",
    "        diff = [abs(test[column][x] - knn_imputed[column][x]) for x in change]\n",
    "        knn[column] = [statistics.mean(diff), endtime]\n",
    "    rank_print('KNN done')\n",
    "    \n",
    "    # MICE imputation\n",
    "    start_time = time.time()\n",
    "    mice_imputed = impy.mice(nantest[number_columns].to_numpy())\n",
    "    mice_imputed = pd.DataFrame(mice_imputed, columns=number_columns)\n",
    "    endtime = (time.time() - start_time) / len(number_columns)\n",
    "    mice = {}\n",
    "    for column in number_columns:\n",
    "        diff = [abs(test[column][x] - mice_imputed[column][x]) for x in change]\n",
    "        mice[column] = [statistics.mean(diff), endtime]\n",
    "    rank_print(\"MICE done\")\n",
    "    \n",
    "    # Mean imputation\n",
    "    mean_imputed = nantest.fillna(nantest.mean())\n",
    "    mean = {}\n",
    "    for column in number_columns:\n",
    "        start_time = time.time()\n",
    "        diff = [abs(test[column][x] - mean_imputed[column][x]) for x in change]\n",
    "        mean[column] = [statistics.mean(diff), time.time() - start_time]\n",
    "    rank_print('Mean done')\n",
    "    \n",
    "    # Mode imputation\n",
    "    mode_num_imp = nantest[number_columns].fillna(nantest.mode().iloc[0])\n",
    "    mode_num = {}\n",
    "    for column in number_columns:\n",
    "        start_time = time.time()\n",
    "        diff = [abs(test[column][x] - mode_num_imp[column][x]) for x in change]\n",
    "        mode_num[column] = [statistics.mean(diff), time.time() - start_time]\n",
    "    rank_print(\"Mode done\")\n",
    "    \n",
    "    # Rank imputation methods\n",
    "    dict_dict = {'mode': mode_num, 'mean': mean, 'knn': knn, 'mice': mice}\n",
    "    accuracy_ranking, speed_ranking = ranking(dict_dict, number_columns)\n",
    "    final_ranking = {}\n",
    "    if pref == None:\n",
    "        for x in number_columns:\n",
    "            knn_score = 0\n",
    "            mice_score = 0\n",
    "            mean_score = 0\n",
    "            mode_score = 0\n",
    "            for y in range(len(accuracy_ranking[x])):\n",
    "                if accuracy_ranking[x][y][1] == 'mode':\n",
    "                    mode_score += accuracy_ranking[x][y][2]\n",
    "                elif accuracy_ranking[x][y][1] == 'mean':\n",
    "                    mean_score += accuracy_ranking[x][y][2]\n",
    "                elif accuracy_ranking[x][y][1] == 'knn':\n",
    "                    knn_score += accuracy_ranking[x][y][2]\n",
    "                elif accuracy_ranking[x][y][1] == 'mice':\n",
    "                    mice_score += accuracy_ranking[x][y][2]\n",
    "                    \n",
    "            for y in range(len(speed_ranking[x])):\n",
    "                if speed_ranking[x][y][1] == 'mode':\n",
    "                    mode_score += accuracy_ranking[x][y][2]\n",
    "                elif speed_ranking[x][y][1] == 'mean':\n",
    "                    mean_score += accuracy_ranking[x][y][2]\n",
    "                elif speed_ranking[x][y][1] == 'knn':\n",
    "                    knn_score += accuracy_ranking[x][y][2]\n",
    "                elif speed_ranking[x][y][1] == 'mice':\n",
    "                    mice_score += accuracy_ranking[x][y][2]\n",
    "            final_score = [(mode_score, 'mode'), (mean_score, 'mean'), (knn_score, 'knn'), (mice_score, 'mice')]\n",
    "            final_score.sort()\n",
    "            final_ranking[x] = final_score\n",
    "            \n",
    "    elif pref == 'speed':\n",
    "        for x in number_columns:\n",
    "            knn_score = 0\n",
    "            mice_score = 0\n",
    "            mean_score = 0\n",
    "            mode_score = 0\n",
    "            for y in range(len(accuracy_ranking[x])):\n",
    "                if accuracy_ranking[x][y][1] == 'mode':\n",
    "                    mode_score += accuracy_ranking[x][y][2]\n",
    "                elif accuracy_ranking[x][y][1] == 'mean':\n",
    "                    mean_score += accuracy_ranking[x][y][2]\n",
    "                elif accuracy_ranking[x][y][1] == 'knn':\n",
    "                    knn_score += accuracy_ranking[x][y][2]\n",
    "                elif accuracy_ranking[x][y][1] == 'mice':\n",
    "                    mice_score += accuracy_ranking[x][y][2]\n",
    "                    \n",
    "            for y in range(len(speed_ranking[x])):\n",
    "                if speed_ranking[x][y][1] == 'mode':\n",
    "                    mode_score += accuracy_ranking[x][y][2] * 2\n",
    "                elif speed_ranking[x][y][1] == 'mean':\n",
    "                    mean_score += accuracy_ranking[x][y][2] * 2\n",
    "                elif speed_ranking[x][y][1] == 'knn':\n",
    "                    knn_score += accuracy_ranking[x][y][2] * 2\n",
    "                elif speed_ranking[x][y][1] == 'mice':\n",
    "                    mice_score += accuracy_ranking[x][y][2] * 2\n",
    "            final_score = [(mode_score, 'mode'), (mean_score, 'mean'), (knn_score, 'knn'), (mice_score, 'mice')]\n",
    "            final_score.sort()\n",
    "            final_ranking[x] = final_score\n",
    "    \n",
    "    elif pref == 'accuracy':\n",
    "        for x in number_columns:\n",
    "            knn_score = 0\n",
    "            mice_score = 0\n",
    "            mean_score = 0\n",
    "            mode_score = 0\n",
    "            for y in range(len(accuracy_ranking[x])):\n",
    "                if accuracy_ranking[x][y][1] == 'mode':\n",
    "                    mode_score += accuracy_ranking[x][y][2] * 2\n",
    "                elif accuracy_ranking[x][y][1] == 'mean':\n",
    "                    mean_score += accuracy_ranking[x][y][2] * 2\n",
    "                elif accuracy_ranking[x][y][1] == 'knn':\n",
    "                    knn_score += accuracy_ranking[x][y][2] * 2\n",
    "                elif accuracy_ranking[x][y][1] == 'mice':\n",
    "                    mice_score += accuracy_ranking[x][y][2] * 2\n",
    "                    \n",
    "            for y in range(len(speed_ranking[x])):\n",
    "                if speed_ranking[x][y][1] == 'mode':\n",
    "                    mode_score += accuracy_ranking[x][y][2]\n",
    "                elif speed_ranking[x][y][1] == 'mean':\n",
    "                    mean_score += accuracy_ranking[x][y][2]\n",
    "                elif speed_ranking[x][y][1] == 'knn':\n",
    "                    knn_score += accuracy_ranking[x][y][2]\n",
    "                elif speed_ranking[x][y][1] == 'mice':\n",
    "                    mice_score += accuracy_ranking[x][y][2]\n",
    "            final_score = [(mode_score, 'mode'), (mean_score, 'mean'), (knn_score, 'knn'), (mice_score, 'mice')]\n",
    "            final_score.sort()\n",
    "            final_ranking[x] = final_score\n",
    "    \n",
    "    # Give final overall ranking\n",
    "    final_mean = 0\n",
    "    final_mode = 0\n",
    "    final_mice = 0\n",
    "    final_knn = 0\n",
    "    for x in final_ranking:\n",
    "        if final_ranking[x][0][1] == 'mode':\n",
    "            final_mode += 1\n",
    "        elif final_ranking[x][0][1] == 'mean':\n",
    "            final_mean += 1\n",
    "        elif final_ranking[x][0][1] == 'knn':\n",
    "            final_knn += 1\n",
    "        elif final_ranking[x][0][1] == 'mice':\n",
    "            final_mice += 1\n",
    "    final = [(final_mean, 'mean'), (final_mode, 'mode'), (final_knn, 'knn'), (final_mice, 'mice')]\n",
    "    final.sort(reverse=True)\n",
    "    rank_print(\"Final overall ranking:\")\n",
    "    rank_print('1. ' + final[0][1])\n",
    "    rank_print('2. ' + final[1][1])\n",
    "    rank_print('3. ' + final[2][1])\n",
    "    rank_print('4. ' + final[3][1])\n",
    "        \n",
    "    return final_ranking"
   ]
  },
  {
   "cell_type": "code",
   "execution_count": 32,
   "metadata": {},
   "outputs": [
    {
     "name": "stdout",
     "output_type": "stream",
     "text": [
      "\u001b[31mThe following columns did not meet the minimum amount of needed data and have therefore been dropped: \u001b[0m\n",
      "['ExPointResult', 'TwoPointConv', 'DefTwoPoint', 'PuntResult', 'Interceptor', 'Rusher', 'RunLocation', 'RunGap', 'ReturnResult', 'Returner', 'BlockingPlayer', 'Tackler2', 'FieldGoalResult', 'FieldGoalDistance', 'RecFumbTeam', 'RecFumbPlayer', 'ChalReplayResult', 'PenalizedTeam', 'PenaltyType', 'PenalizedPlayer']\n",
      "\n",
      "\n",
      "\u001b[31mThe constructed test dataset contains 3624 rows, from which each columns has 1087 rows missing.\u001b[0m\n",
      "\n",
      "\n",
      "\u001b[31mThe following 63 columns will be tested: \u001b[0m\n",
      "['GameID', 'Drive', 'qtr', 'down', 'TimeUnder', 'TimeSecs', 'PlayTimeDiff', 'yrdln', 'yrdline100', 'ydstogo', 'ydsnet', 'GoalToGo', 'FirstDown', 'PlayAttempted', 'Yards.Gained', 'sp', 'Touchdown', 'Safety', 'Onsidekick', 'PassAttempt', 'AirYards', 'YardsAfterCatch', 'QBHit', 'InterceptionThrown', 'RushAttempt', 'Reception', 'Fumble', 'Sack', 'Challenge.Replay', 'Accepted.Penalty', 'Penalty.Yards', 'PosTeamScore', 'DefTeamScore', 'ScoreDiff', 'AbsScoreDiff', 'Timeout_Indicator', 'posteam_timeouts_pre', 'HomeTimeouts_Remaining_Pre', 'AwayTimeouts_Remaining_Pre', 'HomeTimeouts_Remaining_Post', 'AwayTimeouts_Remaining_Post', 'No_Score_Prob', 'Opp_Field_Goal_Prob', 'Opp_Safety_Prob', 'Opp_Touchdown_Prob', 'Field_Goal_Prob', 'Safety_Prob', 'Touchdown_Prob', 'ExPoint_Prob', 'TwoPoint_Prob', 'ExpPts', 'EPA', 'airEPA', 'yacEPA', 'Home_WP_pre', 'Away_WP_pre', 'Home_WP_post', 'Away_WP_post', 'Win_Prob', 'WPA', 'airWPA', 'yacWPA', 'Season']\n",
      "\n",
      "\n",
      "\u001b[31mKNN done\u001b[0m\n",
      "\u001b[31mMICE done\u001b[0m\n",
      "\u001b[31mMean done\u001b[0m\n",
      "\u001b[31mMode done\u001b[0m\n",
      "\u001b[31mFinal overall ranking:\u001b[0m\n",
      "\u001b[31m1. mean\u001b[0m\n",
      "\u001b[31m2. mode\u001b[0m\n",
      "\u001b[31m3. knn\u001b[0m\n",
      "\u001b[31m4. mice\u001b[0m\n"
     ]
    },
    {
     "data": {
      "text/plain": [
       "116.16136813163757"
      ]
     },
     "execution_count": 32,
     "metadata": {},
     "output_type": "execute_result"
    }
   ],
   "source": [
    "# Default\n",
    "start_time = time.time()\n",
    "default = imputation_ranker(df, pref=None, maxmis=0.66, sample=0.01, misper=0.3)\n",
    "time.time() - start_time"
   ]
  },
  {
   "cell_type": "code",
   "execution_count": 33,
   "metadata": {},
   "outputs": [],
   "source": [
    "final_mean = 0\n",
    "final_mode = 0\n",
    "final_mice = 0\n",
    "final_knn = 0\n",
    "for x in default:\n",
    "    if default[x][0][1] == 'mode':\n",
    "        final_mode += 1\n",
    "    elif default[x][0][1] == 'mean':\n",
    "        final_mean += 1\n",
    "    elif default[x][0][1] == 'knn':\n",
    "        final_knn += 1\n",
    "    elif default[x][0][1] == 'mice':\n",
    "        final_mice += 1\n",
    "final_default = [(final_mean, 'mean'), (final_mode, 'mode'), (final_knn, 'knn'), (final_mice, 'mice')]\n",
    "del default"
   ]
  },
  {
   "cell_type": "code",
   "execution_count": 34,
   "metadata": {},
   "outputs": [
    {
     "name": "stdout",
     "output_type": "stream",
     "text": [
      "\u001b[31mThe following columns did not meet the minimum amount of needed data and have therefore been dropped: \u001b[0m\n",
      "['ExPointResult', 'TwoPointConv', 'DefTwoPoint', 'PuntResult', 'Interceptor', 'Rusher', 'RunLocation', 'RunGap', 'ReturnResult', 'Returner', 'BlockingPlayer', 'Tackler2', 'FieldGoalResult', 'FieldGoalDistance', 'RecFumbTeam', 'RecFumbPlayer', 'ChalReplayResult', 'PenalizedTeam', 'PenaltyType', 'PenalizedPlayer']\n",
      "\n",
      "\n",
      "\u001b[31mThe constructed test dataset contains 3624 rows, from which each columns has 1812 rows missing.\u001b[0m\n",
      "\n",
      "\n",
      "\u001b[31mThe following 63 columns will be tested: \u001b[0m\n",
      "['GameID', 'Drive', 'qtr', 'down', 'TimeUnder', 'TimeSecs', 'PlayTimeDiff', 'yrdln', 'yrdline100', 'ydstogo', 'ydsnet', 'GoalToGo', 'FirstDown', 'PlayAttempted', 'Yards.Gained', 'sp', 'Touchdown', 'Safety', 'Onsidekick', 'PassAttempt', 'AirYards', 'YardsAfterCatch', 'QBHit', 'InterceptionThrown', 'RushAttempt', 'Reception', 'Fumble', 'Sack', 'Challenge.Replay', 'Accepted.Penalty', 'Penalty.Yards', 'PosTeamScore', 'DefTeamScore', 'ScoreDiff', 'AbsScoreDiff', 'Timeout_Indicator', 'posteam_timeouts_pre', 'HomeTimeouts_Remaining_Pre', 'AwayTimeouts_Remaining_Pre', 'HomeTimeouts_Remaining_Post', 'AwayTimeouts_Remaining_Post', 'No_Score_Prob', 'Opp_Field_Goal_Prob', 'Opp_Safety_Prob', 'Opp_Touchdown_Prob', 'Field_Goal_Prob', 'Safety_Prob', 'Touchdown_Prob', 'ExPoint_Prob', 'TwoPoint_Prob', 'ExpPts', 'EPA', 'airEPA', 'yacEPA', 'Home_WP_pre', 'Away_WP_pre', 'Home_WP_post', 'Away_WP_post', 'Win_Prob', 'WPA', 'airWPA', 'yacWPA', 'Season']\n",
      "\n",
      "\n",
      "\u001b[31mKNN done\u001b[0m\n",
      "\u001b[31mMICE done\u001b[0m\n",
      "\u001b[31mMean done\u001b[0m\n",
      "\u001b[31mMode done\u001b[0m\n",
      "\u001b[31mFinal overall ranking:\u001b[0m\n",
      "\u001b[31m1. mean\u001b[0m\n",
      "\u001b[31m2. mode\u001b[0m\n",
      "\u001b[31m3. knn\u001b[0m\n",
      "\u001b[31m4. mice\u001b[0m\n"
     ]
    },
    {
     "data": {
      "text/plain": [
       "160.26375365257263"
      ]
     },
     "execution_count": 34,
     "metadata": {},
     "output_type": "execute_result"
    }
   ],
   "source": [
    "# More missing\n",
    "start_time = time.time()\n",
    "more_missing = imputation_ranker(df, pref=None, maxmis=0.66, sample=0.01, misper=0.5)\n",
    "time.time() - start_time"
   ]
  },
  {
   "cell_type": "code",
   "execution_count": 35,
   "metadata": {},
   "outputs": [],
   "source": [
    "final_mean = 0\n",
    "final_mode = 0\n",
    "final_mice = 0\n",
    "final_knn = 0\n",
    "for x in more_missing:\n",
    "    if more_missing[x][0][1] == 'mode':\n",
    "        final_mode += 1\n",
    "    elif more_missing[x][0][1] == 'mean':\n",
    "        final_mean += 1\n",
    "    elif more_missing[x][0][1] == 'knn':\n",
    "        final_knn += 1\n",
    "    elif more_missing[x][0][1] == 'mice':\n",
    "        final_mice += 1\n",
    "final_more_missing = [(final_mean, 'mean'), (final_mode, 'mode'), (final_knn, 'knn'), (final_mice, 'mice')]\n",
    "del more_missing"
   ]
  },
  {
   "cell_type": "code",
   "execution_count": 36,
   "metadata": {},
   "outputs": [
    {
     "name": "stdout",
     "output_type": "stream",
     "text": [
      "\u001b[31mThe following columns did not meet the minimum amount of needed data and have therefore been dropped: \u001b[0m\n",
      "['ExPointResult', 'TwoPointConv', 'DefTwoPoint', 'PuntResult', 'Interceptor', 'Rusher', 'RunLocation', 'RunGap', 'ReturnResult', 'Returner', 'BlockingPlayer', 'Tackler2', 'FieldGoalResult', 'FieldGoalDistance', 'RecFumbTeam', 'RecFumbPlayer', 'ChalReplayResult', 'PenalizedTeam', 'PenaltyType', 'PenalizedPlayer']\n",
      "\n",
      "\n",
      "\u001b[31mThe constructed test dataset contains 3624 rows, from which each columns has 362 rows missing.\u001b[0m\n",
      "\n",
      "\n",
      "\u001b[31mThe following 63 columns will be tested: \u001b[0m\n",
      "['GameID', 'Drive', 'qtr', 'down', 'TimeUnder', 'TimeSecs', 'PlayTimeDiff', 'yrdln', 'yrdline100', 'ydstogo', 'ydsnet', 'GoalToGo', 'FirstDown', 'PlayAttempted', 'Yards.Gained', 'sp', 'Touchdown', 'Safety', 'Onsidekick', 'PassAttempt', 'AirYards', 'YardsAfterCatch', 'QBHit', 'InterceptionThrown', 'RushAttempt', 'Reception', 'Fumble', 'Sack', 'Challenge.Replay', 'Accepted.Penalty', 'Penalty.Yards', 'PosTeamScore', 'DefTeamScore', 'ScoreDiff', 'AbsScoreDiff', 'Timeout_Indicator', 'posteam_timeouts_pre', 'HomeTimeouts_Remaining_Pre', 'AwayTimeouts_Remaining_Pre', 'HomeTimeouts_Remaining_Post', 'AwayTimeouts_Remaining_Post', 'No_Score_Prob', 'Opp_Field_Goal_Prob', 'Opp_Safety_Prob', 'Opp_Touchdown_Prob', 'Field_Goal_Prob', 'Safety_Prob', 'Touchdown_Prob', 'ExPoint_Prob', 'TwoPoint_Prob', 'ExpPts', 'EPA', 'airEPA', 'yacEPA', 'Home_WP_pre', 'Away_WP_pre', 'Home_WP_post', 'Away_WP_post', 'Win_Prob', 'WPA', 'airWPA', 'yacWPA', 'Season']\n",
      "\n",
      "\n",
      "\u001b[31mKNN done\u001b[0m\n",
      "\u001b[31mMICE done\u001b[0m\n",
      "\u001b[31mMean done\u001b[0m\n",
      "\u001b[31mMode done\u001b[0m\n",
      "\u001b[31mFinal overall ranking:\u001b[0m\n",
      "\u001b[31m1. mean\u001b[0m\n",
      "\u001b[31m2. knn\u001b[0m\n",
      "\u001b[31m3. mode\u001b[0m\n",
      "\u001b[31m4. mice\u001b[0m\n"
     ]
    },
    {
     "data": {
      "text/plain": [
       "3348.045892715454"
      ]
     },
     "execution_count": 36,
     "metadata": {},
     "output_type": "execute_result"
    }
   ],
   "source": [
    "# Less missing\n",
    "start_time = time.time()\n",
    "less_missing = imputation_ranker(df, pref=None, maxmis=0.66, sample=0.01, misper=0.1)\n",
    "time.time() - start_time"
   ]
  },
  {
   "cell_type": "code",
   "execution_count": 37,
   "metadata": {},
   "outputs": [],
   "source": [
    "final_mean = 0\n",
    "final_mode = 0\n",
    "final_mice = 0\n",
    "final_knn = 0\n",
    "for x in less_missing:\n",
    "    if less_missing[x][0][1] == 'mode':\n",
    "        final_mode += 1\n",
    "    elif less_missing[x][0][1] == 'mean':\n",
    "        final_mean += 1\n",
    "    elif less_missing[x][0][1] == 'knn':\n",
    "        final_knn += 1\n",
    "    elif less_missing[x][0][1] == 'mice':\n",
    "        final_mice += 1\n",
    "final_less_missing = [(final_mean, 'mean'), (final_mode, 'mode'), (final_knn, 'knn'), (final_mice, 'mice')]\n",
    "del less_missing"
   ]
  },
  {
   "cell_type": "code",
   "execution_count": 38,
   "metadata": {},
   "outputs": [
    {
     "data": {
      "image/png": "[encoded data removed]",
      "text/plain": [
       "<Figure size 432x288 with 1 Axes>"
      ]
     },
     "metadata": {
      "needs_background": "light"
     },
     "output_type": "display_data"
    }
   ],
   "source": [
    "labels = ['Default', 'Less Missing', \"More Missing\"]\n",
    "knn_score = [final_default[2][0], final_less_missing[2][0], final_more_missing[2][0]]\n",
    "mice_score = [final_default[3][0], final_less_missing[3][0], final_more_missing[3][0]]\n",
    "mean_score = [final_default[0][0], final_less_missing[0][0], final_more_missing[0][0]]\n",
    "mode_score = [final_default[1][0], final_less_missing[1][0], final_more_missing[1][0]]\n",
    "\n",
    "x = np.arange(len(labels))  # the label locations\n",
    "width = 0.15  # the width of the bars\n",
    "\n",
    "fig, ax = plt.subplots()\n",
    "rects1 = ax.bar(x - width*1.5, knn_score, width, label='KNN')\n",
    "rects2 = ax.bar(x + width*1.5, mice_score, width, label='MICE')\n",
    "rects3 = ax.bar(x - width/2, mean_score, width, label='Mean')\n",
    "rects4 = ax.bar(x + width/2, mode_score, width, label='Mode')\n",
    "\n",
    "# Add some text for labels, title and custom x-axis tick labels, etc.\n",
    "ax.set_ylabel('Number one ranks')\n",
    "ax.set_title('Times ranked number one')\n",
    "ax.set_xticks(x)\n",
    "ax.set_xticklabels(labels)\n",
    "ax.legend()\n",
    "plt.ylim(0, 35) \n",
    "\n",
    "\n",
    "def autolabel(rects):\n",
    "    \"\"\"Attach a text label above each bar in *rects*, displaying its height.\"\"\"\n",
    "    for rect in rects:\n",
    "        height = rect.get_height()\n",
    "        ax.annotate('{}'.format(height),\n",
    "                    xy=(rect.get_x() + rect.get_width() / 2, height),\n",
    "                    xytext=(0, 3),  # 3 points vertical offset\n",
    "                    textcoords=\"offset points\",\n",
    "                    ha='center', va='bottom')\n",
    "\n",
    "\n",
    "autolabel(rects1)\n",
    "autolabel(rects2)\n",
    "autolabel(rects3)\n",
    "autolabel(rects4)\n",
    "fig.tight_layout()\n",
    "plt.savefig('default_missing')\n",
    "plt.show()"
   ]
  },
  {
   "cell_type": "code",
   "execution_count": 39,
   "metadata": {},
   "outputs": [
    {
     "name": "stdout",
     "output_type": "stream",
     "text": [
      "\u001b[31mThe following columns did not meet the minimum amount of needed data and have therefore been dropped: \u001b[0m\n",
      "['ExPointResult', 'TwoPointConv', 'DefTwoPoint', 'PuntResult', 'Interceptor', 'Rusher', 'RunLocation', 'RunGap', 'ReturnResult', 'Returner', 'BlockingPlayer', 'Tackler2', 'FieldGoalResult', 'FieldGoalDistance', 'RecFumbTeam', 'RecFumbPlayer', 'ChalReplayResult', 'PenalizedTeam', 'PenaltyType', 'PenalizedPlayer']\n",
      "\n",
      "\n",
      "\u001b[31mThe constructed test dataset contains 18122 rows, from which each columns has 5436 rows missing.\u001b[0m\n",
      "\n",
      "\n",
      "\u001b[31mThe following 63 columns will be tested: \u001b[0m\n",
      "['GameID', 'Drive', 'qtr', 'down', 'TimeUnder', 'TimeSecs', 'PlayTimeDiff', 'yrdln', 'yrdline100', 'ydstogo', 'ydsnet', 'GoalToGo', 'FirstDown', 'PlayAttempted', 'Yards.Gained', 'sp', 'Touchdown', 'Safety', 'Onsidekick', 'PassAttempt', 'AirYards', 'YardsAfterCatch', 'QBHit', 'InterceptionThrown', 'RushAttempt', 'Reception', 'Fumble', 'Sack', 'Challenge.Replay', 'Accepted.Penalty', 'Penalty.Yards', 'PosTeamScore', 'DefTeamScore', 'ScoreDiff', 'AbsScoreDiff', 'Timeout_Indicator', 'posteam_timeouts_pre', 'HomeTimeouts_Remaining_Pre', 'AwayTimeouts_Remaining_Pre', 'HomeTimeouts_Remaining_Post', 'AwayTimeouts_Remaining_Post', 'No_Score_Prob', 'Opp_Field_Goal_Prob', 'Opp_Safety_Prob', 'Opp_Touchdown_Prob', 'Field_Goal_Prob', 'Safety_Prob', 'Touchdown_Prob', 'ExPoint_Prob', 'TwoPoint_Prob', 'ExpPts', 'EPA', 'airEPA', 'yacEPA', 'Home_WP_pre', 'Away_WP_pre', 'Home_WP_post', 'Away_WP_post', 'Win_Prob', 'WPA', 'airWPA', 'yacWPA', 'Season']\n",
      "\n",
      "\n",
      "\u001b[31mKNN done\u001b[0m\n",
      "\u001b[31mMICE done\u001b[0m\n",
      "\u001b[31mMean done\u001b[0m\n",
      "\u001b[31mMode done\u001b[0m\n",
      "\u001b[31mFinal overall ranking:\u001b[0m\n",
      "\u001b[31m1. mean\u001b[0m\n",
      "\u001b[31m2. mode\u001b[0m\n",
      "\u001b[31m3. knn\u001b[0m\n",
      "\u001b[31m4. mice\u001b[0m\n"
     ]
    },
    {
     "data": {
      "text/plain": [
       "1901.1049711704254"
      ]
     },
     "execution_count": 39,
     "metadata": {},
     "output_type": "execute_result"
    }
   ],
   "source": [
    "# More Sample\n",
    "start_time = time.time()\n",
    "more_sample = imputation_ranker(df, pref=None, maxmis=0.66, sample=0.05, misper=0.3)\n",
    "time.time() - start_time"
   ]
  },
  {
   "cell_type": "code",
   "execution_count": 40,
   "metadata": {},
   "outputs": [],
   "source": [
    "final_mean = 0\n",
    "final_mode = 0\n",
    "final_mice = 0\n",
    "final_knn = 0\n",
    "for x in more_sample:\n",
    "    if more_sample[x][0][1] == 'mode':\n",
    "        final_mode += 1\n",
    "    elif more_sample[x][0][1] == 'mean':\n",
    "        final_mean += 1\n",
    "    elif more_sample[x][0][1] == 'knn':\n",
    "        final_knn += 1\n",
    "    elif more_sample[x][0][1] == 'mice':\n",
    "        final_mice += 1\n",
    "final_more_sample = [(final_mean, 'mean'), (final_mode, 'mode'), (final_knn, 'knn'), (final_mice, 'mice')]\n",
    "del more_sample"
   ]
  },
  {
   "cell_type": "code",
   "execution_count": 41,
   "metadata": {},
   "outputs": [
    {
     "name": "stdout",
     "output_type": "stream",
     "text": [
      "\u001b[31mThe following columns did not meet the minimum amount of needed data and have therefore been dropped: \u001b[0m\n",
      "['ExPointResult', 'TwoPointConv', 'DefTwoPoint', 'PuntResult', 'Interceptor', 'Rusher', 'RunLocation', 'RunGap', 'ReturnResult', 'Returner', 'BlockingPlayer', 'Tackler2', 'FieldGoalResult', 'FieldGoalDistance', 'RecFumbTeam', 'RecFumbPlayer', 'ChalReplayResult', 'PenalizedTeam', 'PenaltyType', 'PenalizedPlayer']\n",
      "\n",
      "\n",
      "\u001b[31mThe constructed test dataset contains 1812 rows, from which each columns has 543 rows missing.\u001b[0m\n",
      "\n",
      "\n",
      "\u001b[31mThe following 63 columns will be tested: \u001b[0m\n",
      "['GameID', 'Drive', 'qtr', 'down', 'TimeUnder', 'TimeSecs', 'PlayTimeDiff', 'yrdln', 'yrdline100', 'ydstogo', 'ydsnet', 'GoalToGo', 'FirstDown', 'PlayAttempted', 'Yards.Gained', 'sp', 'Touchdown', 'Safety', 'Onsidekick', 'PassAttempt', 'AirYards', 'YardsAfterCatch', 'QBHit', 'InterceptionThrown', 'RushAttempt', 'Reception', 'Fumble', 'Sack', 'Challenge.Replay', 'Accepted.Penalty', 'Penalty.Yards', 'PosTeamScore', 'DefTeamScore', 'ScoreDiff', 'AbsScoreDiff', 'Timeout_Indicator', 'posteam_timeouts_pre', 'HomeTimeouts_Remaining_Pre', 'AwayTimeouts_Remaining_Pre', 'HomeTimeouts_Remaining_Post', 'AwayTimeouts_Remaining_Post', 'No_Score_Prob', 'Opp_Field_Goal_Prob', 'Opp_Safety_Prob', 'Opp_Touchdown_Prob', 'Field_Goal_Prob', 'Safety_Prob', 'Touchdown_Prob', 'ExPoint_Prob', 'TwoPoint_Prob', 'ExpPts', 'EPA', 'airEPA', 'yacEPA', 'Home_WP_pre', 'Away_WP_pre', 'Home_WP_post', 'Away_WP_post', 'Win_Prob', 'WPA', 'airWPA', 'yacWPA', 'Season']\n",
      "\n",
      "\n",
      "\u001b[31mKNN done\u001b[0m\n",
      "\u001b[31mMICE done\u001b[0m\n",
      "\u001b[31mMean done\u001b[0m\n",
      "\u001b[31mMode done\u001b[0m\n",
      "\u001b[31mFinal overall ranking:\u001b[0m\n",
      "\u001b[31m1. mean\u001b[0m\n",
      "\u001b[31m2. knn\u001b[0m\n",
      "\u001b[31m3. mode\u001b[0m\n",
      "\u001b[31m4. mice\u001b[0m\n"
     ]
    },
    {
     "data": {
      "text/plain": [
       "47.96737360954285"
      ]
     },
     "execution_count": 41,
     "metadata": {},
     "output_type": "execute_result"
    }
   ],
   "source": [
    "# Less Sample\n",
    "start_time = time.time()\n",
    "less_sample = imputation_ranker(df, pref=None, maxmis=0.66, sample=0.005, misper=0.3)\n",
    "time.time() - start_time"
   ]
  },
  {
   "cell_type": "code",
   "execution_count": 42,
   "metadata": {},
   "outputs": [],
   "source": [
    "final_mean = 0\n",
    "final_mode = 0\n",
    "final_mice = 0\n",
    "final_knn = 0\n",
    "for x in less_sample:\n",
    "    if less_sample[x][0][1] == 'mode':\n",
    "        final_mode += 1\n",
    "    elif less_sample[x][0][1] == 'mean':\n",
    "        final_mean += 1\n",
    "    elif less_sample[x][0][1] == 'knn':\n",
    "        final_knn += 1\n",
    "    elif less_sample[x][0][1] == 'mice':\n",
    "        final_mice += 1\n",
    "final_less_sample = [(final_mean, 'mean'), (final_mode, 'mode'), (final_knn, 'knn'), (final_mice, 'mice')]\n",
    "del less_sample"
   ]
  },
  {
   "cell_type": "code",
   "execution_count": 43,
   "metadata": {},
   "outputs": [
    {
     "data": {
      "image/png": "[encoded data removed]",
      "text/plain": [
       "<Figure size 432x288 with 1 Axes>"
      ]
     },
     "metadata": {
      "needs_background": "light"
     },
     "output_type": "display_data"
    }
   ],
   "source": [
    "labels = ['Default', 'Less Sample', \"More Sample\"]\n",
    "knn_score = [final_default[2][0], final_less_sample[2][0], final_more_sample[2][0]]\n",
    "mice_score = [final_default[3][0], final_less_sample[3][0], final_more_sample[3][0]]\n",
    "mean_score = [final_default[0][0], final_less_sample[0][0], final_more_sample[0][0]]\n",
    "mode_score = [final_default[1][0], final_less_sample[1][0], final_more_sample[1][0]]\n",
    "\n",
    "x = np.arange(len(labels))  # the label locations\n",
    "width = 0.15  # the width of the bars\n",
    "\n",
    "fig, ax = plt.subplots()\n",
    "rects1 = ax.bar(x - width*1.5, knn_score, width, label='KNN')\n",
    "rects2 = ax.bar(x + width*1.5, mice_score, width, label='MICE')\n",
    "rects3 = ax.bar(x - width/2, mean_score, width, label='Mean')\n",
    "rects4 = ax.bar(x + width/2, mode_score, width, label='Mode')\n",
    "\n",
    "# Add some text for labels, title and custom x-axis tick labels, etc.\n",
    "ax.set_ylabel('Number one ranks')\n",
    "ax.set_title('Times ranked number one')\n",
    "ax.set_xticks(x)\n",
    "ax.set_xticklabels(labels)\n",
    "ax.legend()\n",
    "plt.ylim(0, 35) \n",
    "\n",
    "\n",
    "def autolabel(rects):\n",
    "    \"\"\"Attach a text label above each bar in *rects*, displaying its height.\"\"\"\n",
    "    for rect in rects:\n",
    "        height = rect.get_height()\n",
    "        ax.annotate('{}'.format(height),\n",
    "                    xy=(rect.get_x() + rect.get_width() / 2, height),\n",
    "                    xytext=(0, 3),  # 3 points vertical offset\n",
    "                    textcoords=\"offset points\",\n",
    "                    ha='center', va='bottom')\n",
    "\n",
    "\n",
    "autolabel(rects1)\n",
    "autolabel(rects2)\n",
    "autolabel(rects3)\n",
    "autolabel(rects4)\n",
    "fig.tight_layout()\n",
    "plt.savefig('default_sample')\n",
    "plt.show()"
   ]
  },
  {
   "cell_type": "code",
   "execution_count": null,
   "metadata": {},
   "outputs": [],
   "source": []
  }
 ],
 "metadata": {
  "kernelspec": {
   "display_name": "Python 3",
   "language": "python",
   "name": "python3"
  },
  "language_info": {
   "codemirror_mode": {
    "name": "ipython",
    "version": 3
   },
   "file_extension": ".py",
   "mimetype": "text/x-python",
   "name": "python",
   "nbconvert_exporter": "python",
   "pygments_lexer": "ipython3",
   "version": "3.7.1"
  }
 },
 "nbformat": 4,
 "nbformat_minor": 2
}
